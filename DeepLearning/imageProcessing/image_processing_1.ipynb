{
 "cells": [
  {
   "cell_type": "code",
   "execution_count": 1,
   "metadata": {},
   "outputs": [],
   "source": [
    "from PIL import Image"
   ]
  },
  {
   "cell_type": "markdown",
   "metadata": {},
   "source": [
    "## Create an RBG Image"
   ]
  },
  {
   "cell_type": "code",
   "execution_count": 2,
   "metadata": {},
   "outputs": [
    {
     "name": "stdout",
     "output_type": "stream",
     "text": [
      "<PIL.Image.Image image mode=RGB size=100x100 at 0x120462E20>\n"
     ]
    }
   ],
   "source": [
    "# Create a New Orange Image\n",
    "image = Image.new(mode=\"RGB\",size=(100,100),color=(255,100,0))\n",
    "print(image)"
   ]
  },
  {
   "cell_type": "code",
   "execution_count": 3,
   "metadata": {},
   "outputs": [
    {
     "name": "stdout",
     "output_type": "stream",
     "text": [
      "<class 'PIL.Image.Image'>\n",
      "(100, 100)\n",
      "RGB\n",
      "('R', 'G', 'B')\n"
     ]
    }
   ],
   "source": [
    "print(type(image))\n",
    "print(image.size)\n",
    "print(image.mode)\n",
    "print(image.getbands())"
   ]
  },
  {
   "cell_type": "code",
   "execution_count": 4,
   "metadata": {},
   "outputs": [
    {
     "name": "stdout",
     "output_type": "stream",
     "text": [
      "None\n"
     ]
    }
   ],
   "source": [
    "print(image.show())"
   ]
  },
  {
   "cell_type": "markdown",
   "metadata": {},
   "source": [
    "# Create an B/W Image"
   ]
  },
  {
   "cell_type": "code",
   "execution_count": 5,
   "metadata": {},
   "outputs": [
    {
     "name": "stdout",
     "output_type": "stream",
     "text": [
      "<PIL.Image.Image image mode=L size=100x100 at 0x120976910>\n"
     ]
    }
   ],
   "source": [
    "bw_image = Image.new(mode='L', size=(100,100), color=(100))\n",
    "print(bw_image)"
   ]
  },
  {
   "cell_type": "code",
   "execution_count": 6,
   "metadata": {},
   "outputs": [
    {
     "name": "stdout",
     "output_type": "stream",
     "text": [
      "<class 'PIL.Image.Image'>\n",
      "(100, 100)\n",
      "L\n",
      "('L',)\n"
     ]
    }
   ],
   "source": [
    "print(type(bw_image))\n",
    "print(bw_image.size)\n",
    "print(bw_image.mode)\n",
    "print(bw_image.getbands())"
   ]
  },
  {
   "cell_type": "code",
   "execution_count": 7,
   "metadata": {},
   "outputs": [
    {
     "name": "stdout",
     "output_type": "stream",
     "text": [
      "None\n"
     ]
    }
   ],
   "source": [
    "print(bw_image.show())"
   ]
  },
  {
   "cell_type": "code",
   "execution_count": null,
   "metadata": {},
   "outputs": [],
   "source": []
  },
  {
   "cell_type": "markdown",
   "metadata": {},
   "source": [
    "## Create an Image using OpenCV & Numpy"
   ]
  },
  {
   "cell_type": "code",
   "execution_count": 8,
   "metadata": {},
   "outputs": [],
   "source": [
    "import numpy as np\n",
    "import cv2"
   ]
  },
  {
   "cell_type": "code",
   "execution_count": 12,
   "metadata": {},
   "outputs": [
    {
     "name": "stdout",
     "output_type": "stream",
     "text": [
      "[[[140]\n",
      "  [140]\n",
      "  [140]\n",
      "  ...\n",
      "  [140]\n",
      "  [140]\n",
      "  [140]]\n",
      "\n",
      " [[140]\n",
      "  [140]\n",
      "  [140]\n",
      "  ...\n",
      "  [140]\n",
      "  [140]\n",
      "  [140]]\n",
      "\n",
      " [[140]\n",
      "  [140]\n",
      "  [140]\n",
      "  ...\n",
      "  [140]\n",
      "  [140]\n",
      "  [140]]\n",
      "\n",
      " ...\n",
      "\n",
      " [[140]\n",
      "  [140]\n",
      "  [140]\n",
      "  ...\n",
      "  [140]\n",
      "  [140]\n",
      "  [140]]\n",
      "\n",
      " [[140]\n",
      "  [140]\n",
      "  [140]\n",
      "  ...\n",
      "  [140]\n",
      "  [140]\n",
      "  [140]]\n",
      "\n",
      " [[140]\n",
      "  [140]\n",
      "  [140]\n",
      "  ...\n",
      "  [140]\n",
      "  [140]\n",
      "  [140]]]\n"
     ]
    }
   ],
   "source": [
    "image_open_cv_bw = np.zeros((500,500,1),dtype=np.uint8)\n",
    "image_open_cv_bw[:] = (140)\n",
    "print(image_open_cv_bw)"
   ]
  },
  {
   "cell_type": "code",
   "execution_count": 13,
   "metadata": {},
   "outputs": [
    {
     "name": "stdout",
     "output_type": "stream",
     "text": [
      "(500, 500, 1)\n"
     ]
    }
   ],
   "source": [
    "print(image_open_cv_bw.shape)"
   ]
  },
  {
   "cell_type": "code",
   "execution_count": null,
   "metadata": {},
   "outputs": [],
   "source": [
    "cv2.imshow(\"Grey Scale Image\", image_open_cv_bw)\n",
    "cv2.waitKey(0)\n",
    "cv2.destroyAllWindows()"
   ]
  },
  {
   "cell_type": "code",
   "execution_count": null,
   "metadata": {},
   "outputs": [],
   "source": []
  }
 ],
 "metadata": {
  "kernelspec": {
   "display_name": ".venv",
   "language": "python",
   "name": "python3"
  },
  "language_info": {
   "codemirror_mode": {
    "name": "ipython",
    "version": 3
   },
   "file_extension": ".py",
   "mimetype": "text/x-python",
   "name": "python",
   "nbconvert_exporter": "python",
   "pygments_lexer": "ipython3",
   "version": "3.9.6"
  }
 },
 "nbformat": 4,
 "nbformat_minor": 2
}
