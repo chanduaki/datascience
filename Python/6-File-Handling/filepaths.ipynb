{
 "cells": [
  {
   "cell_type": "code",
   "execution_count": 8,
   "metadata": {},
   "outputs": [
    {
     "name": "stdout",
     "output_type": "stream",
     "text": [
      "/Users/chandu/Desktop/ML_Learnings/datascience/Python/6-File-Handling\n"
     ]
    }
   ],
   "source": [
    "# Get the Current working directory\n",
    "\n",
    "import os \n",
    "\n",
    "print(os.getcwd())"
   ]
  },
  {
   "cell_type": "code",
   "execution_count": 11,
   "metadata": {},
   "outputs": [
    {
     "name": "stdout",
     "output_type": "stream",
     "text": [
      "New Directory 'pacakages' is created\n"
     ]
    }
   ],
   "source": [
    "# Create a new directory \n",
    "import os \n",
    "new_directory = \"pacakages\"\n",
    "os.mkdir(new_directory)\n",
    "print(f\"New Directory '{new_directory}' is created\")"
   ]
  },
  {
   "cell_type": "code",
   "execution_count": 12,
   "metadata": {},
   "outputs": [
    {
     "name": "stdout",
     "output_type": "stream",
     "text": [
      "destination.txt\n",
      "fileoperations.ipynb\n",
      "example1.txt\n",
      "filepaths.ipynb\n",
      "pacakages\n",
      "example.bin\n",
      "example.txt\n"
     ]
    }
   ],
   "source": [
    "# Lists files and folders \n",
    "items = os.listdir('.')\n",
    "for i in items: \n",
    "    print(i)"
   ]
  },
  {
   "cell_type": "code",
   "execution_count": 13,
   "metadata": {},
   "outputs": [
    {
     "name": "stdout",
     "output_type": "stream",
     "text": [
      "folders/file.txt\n"
     ]
    }
   ],
   "source": [
    "# Joining Paths \n",
    "\n",
    "dir_path = \"folders\"\n",
    "file_path = \"file.txt\"\n",
    "full_path = os.path.join(dir_path, file_path)\n",
    "print(full_path)"
   ]
  },
  {
   "cell_type": "code",
   "execution_count": 14,
   "metadata": {},
   "outputs": [
    {
     "name": "stdout",
     "output_type": "stream",
     "text": [
      "/Users/chandu/Desktop/ML_Learnings/datascience/Python/6-File-Handling/folders/file.txt\n"
     ]
    }
   ],
   "source": [
    "dir_path = \"folders\"\n",
    "file_path = \"file.txt\"\n",
    "full_path = os.path.join(os.getcwd(), dir_path, file_path)\n",
    "print(full_path)"
   ]
  },
  {
   "cell_type": "code",
   "execution_count": 15,
   "metadata": {},
   "outputs": [
    {
     "name": "stdout",
     "output_type": "stream",
     "text": [
      "given path exisits\n"
     ]
    }
   ],
   "source": [
    "# Check path exists or not \n",
    "\n",
    "path = 'example1.txt'\n",
    "if os.path.exists(path):\n",
    "    print(\"given path exisits\")\n",
    "else: \n",
    "    print(\"given path not exisits\")\n"
   ]
  },
  {
   "cell_type": "code",
   "execution_count": 16,
   "metadata": {},
   "outputs": [
    {
     "name": "stdout",
     "output_type": "stream",
     "text": [
      "given path not exisits\n"
     ]
    }
   ],
   "source": [
    "path = 'example2.txt'\n",
    "if os.path.exists(path):\n",
    "    print(\"given path exisits\")\n",
    "else: \n",
    "    print(\"given path not exisits\")\n"
   ]
  },
  {
   "cell_type": "code",
   "execution_count": 18,
   "metadata": {},
   "outputs": [
    {
     "name": "stdout",
     "output_type": "stream",
     "text": [
      "given path is a file\n"
     ]
    }
   ],
   "source": [
    "# Check path is file or directory \n",
    "\n",
    "import os\n",
    "path = 'example.txt'\n",
    "\n",
    "if os.path.isfile(path):\n",
    "    print('given path is a file')\n",
    "elif os.path.isdir(path):\n",
    "    print('given path is a directory')\n",
    "else: \n",
    "    print(\"give path is neither path or directory\")\n"
   ]
  }
 ],
 "metadata": {
  "kernelspec": {
   "display_name": "venv",
   "language": "python",
   "name": "python3"
  },
  "language_info": {
   "codemirror_mode": {
    "name": "ipython",
    "version": 3
   },
   "file_extension": ".py",
   "mimetype": "text/x-python",
   "name": "python",
   "nbconvert_exporter": "python",
   "pygments_lexer": "ipython3",
   "version": "3.11.5"
  }
 },
 "nbformat": 4,
 "nbformat_minor": 2
}
