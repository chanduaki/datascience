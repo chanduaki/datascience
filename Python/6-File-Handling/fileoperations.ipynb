{
 "cells": [
  {
   "cell_type": "code",
   "execution_count": 1,
   "metadata": {},
   "outputs": [
    {
     "name": "stdout",
     "output_type": "stream",
     "text": [
      "Hi\n",
      "Hello \n",
      "How are you ?\n"
     ]
    }
   ],
   "source": [
    "with open('example.txt', 'r') as file: \n",
    "    content = file.read()\n",
    "    print(content)"
   ]
  },
  {
   "cell_type": "code",
   "execution_count": 4,
   "metadata": {},
   "outputs": [
    {
     "name": "stdout",
     "output_type": "stream",
     "text": [
      "['Hi\\n', 'Hello \\n', 'How are you ?']\n"
     ]
    }
   ],
   "source": [
    "with open('example.txt', 'r') as file: \n",
    "    content = file.readlines()\n",
    "    print(content)"
   ]
  },
  {
   "cell_type": "code",
   "execution_count": 5,
   "metadata": {},
   "outputs": [
    {
     "name": "stdout",
     "output_type": "stream",
     "text": [
      "Hi\n",
      "\n",
      "Hello \n",
      "\n",
      "How are you ?\n"
     ]
    }
   ],
   "source": [
    "with open('example.txt', 'r') as file: \n",
    "    for line in file: \n",
    "        print(line)"
   ]
  },
  {
   "cell_type": "code",
   "execution_count": 6,
   "metadata": {},
   "outputs": [
    {
     "name": "stdout",
     "output_type": "stream",
     "text": [
      "Hi\n",
      "Hello\n",
      "How are you ?\n"
     ]
    }
   ],
   "source": [
    "with open('example.txt', 'r') as file: \n",
    "    for line in file: \n",
    "        print(line.strip())"
   ]
  },
  {
   "cell_type": "code",
   "execution_count": 13,
   "metadata": {},
   "outputs": [
    {
     "name": "stdout",
     "output_type": "stream",
     "text": [
      "Hellow World! \n",
      "This is a new line\n"
     ]
    }
   ],
   "source": [
    "# Write a File ( Overwriting)\n",
    "with open('example.txt', 'w') as file: \n",
    "    file.write(\"Hellow World! \\n\")\n",
    "    file.write(\"This is a new line\")\n",
    "\n",
    "with open('example.txt', 'r') as file : \n",
    "    print(file.read())"
   ]
  },
  {
   "cell_type": "code",
   "execution_count": null,
   "metadata": {},
   "outputs": [],
   "source": [
    "### All the file is overwritten "
   ]
  },
  {
   "cell_type": "code",
   "execution_count": 14,
   "metadata": {},
   "outputs": [
    {
     "name": "stdout",
     "output_type": "stream",
     "text": [
      "Hellow World! \n",
      "This is a new line\n",
      " Hi! \n",
      "This is a new line\n"
     ]
    }
   ],
   "source": [
    "# Write a File (without Overwriting)\n",
    "with open('example.txt', 'a') as file: \n",
    "    file.write(\"\\n Hi! \\n\")\n",
    "    file.write(\"This is a new line\")\n",
    "\n",
    "with open('example.txt', 'r') as file : \n",
    "    print(file.read())"
   ]
  },
  {
   "cell_type": "code",
   "execution_count": 15,
   "metadata": {},
   "outputs": [
    {
     "name": "stdout",
     "output_type": "stream",
     "text": [
      "Hellow World! \n",
      "This is a new line\n",
      " Hi! \n",
      "This is a new linefirst line \n",
      "second line \n",
      "third line \n",
      "\n"
     ]
    }
   ],
   "source": [
    "# Writing a list of lines to files \n",
    "lines = [\"first line \\n\", 'second line \\n', 'third line \\n']\n",
    "with open('example.txt', 'a') as file: \n",
    "    file.writelines(lines)\n",
    "with open('example.txt', 'r') as file : \n",
    "    print(file.read())"
   ]
  },
  {
   "cell_type": "code",
   "execution_count": 16,
   "metadata": {},
   "outputs": [
    {
     "name": "stdout",
     "output_type": "stream",
     "text": [
      "b'\\x00\\x01\\x02\\x03\\x04'\n"
     ]
    }
   ],
   "source": [
    "# Binary File \n",
    "data = b'\\x00\\x01\\x02\\x03\\x04'\n",
    "\n",
    "with open('example.bin','wb') as file: \n",
    "    file.write(data)\n",
    "\n",
    "with open('example.bin','rb') as file: \n",
    "    print(file.read())"
   ]
  },
  {
   "cell_type": "code",
   "execution_count": 17,
   "metadata": {},
   "outputs": [],
   "source": [
    "# Copy File \n",
    "with open('example.txt', 'r') as source_file: \n",
    "    content = source_file.read()\n",
    "\n",
    "with open('destination.txt', 'w') as destination_file: \n",
    "    destination_file.write(content)"
   ]
  },
  {
   "cell_type": "code",
   "execution_count": 19,
   "metadata": {},
   "outputs": [
    {
     "name": "stdout",
     "output_type": "stream",
     "text": [
      "Hellow World! \n",
      "This is a new line\n",
      " Hi! \n",
      "This is a new linefirst line \n",
      "second line \n",
      "third line \n",
      "\n"
     ]
    }
   ],
   "source": [
    "\n",
    "with open('destination.txt', 'r') as destination_file: \n",
    "    print(destination_file.read())"
   ]
  },
  {
   "cell_type": "code",
   "execution_count": 21,
   "metadata": {},
   "outputs": [
    {
     "name": "stdout",
     "output_type": "stream",
     "text": [
      "hello world\n",
      "this is a new line \n",
      "\n"
     ]
    }
   ],
   "source": [
    "# Writing and then Reading\n",
    "\n",
    "with open('example1.txt', 'w+') as file: \n",
    "    file.write(\"hello world\\n\")\n",
    "    file.write(\"this is a new line \\n\")\n",
    "\n",
    "    # Move file cursor to beggining\n",
    "    file.seek(0)\n",
    "\n",
    "    # Read Content in File\n",
    "    print(file.read())\n"
   ]
  }
 ],
 "metadata": {
  "kernelspec": {
   "display_name": "venv",
   "language": "python",
   "name": "python3"
  },
  "language_info": {
   "codemirror_mode": {
    "name": "ipython",
    "version": 3
   },
   "file_extension": ".py",
   "mimetype": "text/x-python",
   "name": "python",
   "nbconvert_exporter": "python",
   "pygments_lexer": "ipython3",
   "version": "3.11.5"
  }
 },
 "nbformat": 4,
 "nbformat_minor": 2
}
