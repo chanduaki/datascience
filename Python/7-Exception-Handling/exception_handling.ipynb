{
 "cells": [
  {
   "cell_type": "markdown",
   "metadata": {},
   "source": [
    "1. Name Error \n",
    "2. Value Error\n",
    "3. Type Error\n",
    "4. FileNotFoundError\n",
    "5. ZeroDivisionNumber"
   ]
  },
  {
   "cell_type": "code",
   "execution_count": 1,
   "metadata": {},
   "outputs": [
    {
     "ename": "NameError",
     "evalue": "name 'b' is not defined",
     "output_type": "error",
     "traceback": [
      "\u001b[0;31m---------------------------------------------------------------------------\u001b[0m",
      "\u001b[0;31mNameError\u001b[0m                                 Traceback (most recent call last)",
      "Cell \u001b[0;32mIn[1], line 1\u001b[0m\n\u001b[0;32m----> 1\u001b[0m a\u001b[38;5;241m=\u001b[39m\u001b[43mb\u001b[49m\n",
      "\u001b[0;31mNameError\u001b[0m: name 'b' is not defined"
     ]
    }
   ],
   "source": [
    "a=b"
   ]
  },
  {
   "cell_type": "code",
   "execution_count": 2,
   "metadata": {},
   "outputs": [
    {
     "name": "stdout",
     "output_type": "stream",
     "text": [
      "The Variable is not been assigned\n"
     ]
    }
   ],
   "source": [
    "# Try, Except \n",
    "\n",
    "try: \n",
    "    a=b\n",
    "except: \n",
    "    print(\"The Variable is not been assigned\")"
   ]
  },
  {
   "cell_type": "code",
   "execution_count": 3,
   "metadata": {},
   "outputs": [
    {
     "name": "stdout",
     "output_type": "stream",
     "text": [
      "name 'b' is not defined\n"
     ]
    }
   ],
   "source": [
    "try: \n",
    "    a=b\n",
    "except NameError as ex: \n",
    "    print(ex)"
   ]
  },
  {
   "cell_type": "code",
   "execution_count": 4,
   "metadata": {},
   "outputs": [
    {
     "ename": "ZeroDivisionError",
     "evalue": "division by zero",
     "output_type": "error",
     "traceback": [
      "\u001b[0;31m---------------------------------------------------------------------------\u001b[0m",
      "\u001b[0;31mZeroDivisionError\u001b[0m                         Traceback (most recent call last)",
      "Cell \u001b[0;32mIn[4], line 1\u001b[0m\n\u001b[0;32m----> 1\u001b[0m result \u001b[38;5;241m=\u001b[39m \u001b[38;5;241;43m1\u001b[39;49m\u001b[38;5;241;43m/\u001b[39;49m\u001b[38;5;241;43m0\u001b[39;49m\n\u001b[1;32m      2\u001b[0m \u001b[38;5;28mprint\u001b[39m(result)\n",
      "\u001b[0;31mZeroDivisionError\u001b[0m: division by zero"
     ]
    }
   ],
   "source": [
    "result = 1/0\n",
    "print(result)"
   ]
  },
  {
   "cell_type": "code",
   "execution_count": 6,
   "metadata": {},
   "outputs": [
    {
     "name": "stdout",
     "output_type": "stream",
     "text": [
      "division by zero\n",
      "please enter the denominator > 0\n"
     ]
    }
   ],
   "source": [
    "try: \n",
    "    result = 1/0\n",
    "except ZeroDivisionError as ex: \n",
    "    print(ex)\n",
    "    print(\"please enter the denominator > 0\")"
   ]
  },
  {
   "cell_type": "code",
   "execution_count": 7,
   "metadata": {},
   "outputs": [
    {
     "ename": "NameError",
     "evalue": "name 'b' is not defined",
     "output_type": "error",
     "traceback": [
      "\u001b[0;31m---------------------------------------------------------------------------\u001b[0m",
      "\u001b[0;31mNameError\u001b[0m                                 Traceback (most recent call last)",
      "Cell \u001b[0;32mIn[7], line 3\u001b[0m\n\u001b[1;32m      1\u001b[0m \u001b[38;5;28;01mtry\u001b[39;00m: \n\u001b[1;32m      2\u001b[0m     result \u001b[38;5;241m=\u001b[39m \u001b[38;5;241m1\u001b[39m\u001b[38;5;241m/\u001b[39m\u001b[38;5;241m2\u001b[39m\n\u001b[0;32m----> 3\u001b[0m     a\u001b[38;5;241m=\u001b[39m\u001b[43mb\u001b[49m\n\u001b[1;32m      4\u001b[0m \u001b[38;5;28;01mexcept\u001b[39;00m \u001b[38;5;167;01mZeroDivisionError\u001b[39;00m \u001b[38;5;28;01mas\u001b[39;00m ex: \n\u001b[1;32m      5\u001b[0m     \u001b[38;5;28mprint\u001b[39m(ex)\n",
      "\u001b[0;31mNameError\u001b[0m: name 'b' is not defined"
     ]
    }
   ],
   "source": [
    "try: \n",
    "    result = 1/2\n",
    "    a=b\n",
    "except ZeroDivisionError as ex: \n",
    "    print(ex)\n",
    "    print(\"please enter the denominator > 0\")"
   ]
  },
  {
   "cell_type": "code",
   "execution_count": 8,
   "metadata": {},
   "outputs": [
    {
     "name": "stdout",
     "output_type": "stream",
     "text": [
      "name 'b' is not defined\n"
     ]
    }
   ],
   "source": [
    "try: \n",
    "    result = 1/2\n",
    "    a=b\n",
    "except ZeroDivisionError as ex: \n",
    "    print(ex)\n",
    "    print(\"please enter the denominator > 0\")\n",
    "except Exception as ex1: \n",
    "    print(ex1)"
   ]
  },
  {
   "cell_type": "code",
   "execution_count": 12,
   "metadata": {},
   "outputs": [
    {
     "name": "stdout",
     "output_type": "stream",
     "text": [
      "Result : 0.5\n"
     ]
    }
   ],
   "source": [
    "# Try, Except else Block\n",
    "try:\n",
    "    num = int(input(\"Enter Number\"))\n",
    "    result = 1/num\n",
    "    # print(result)\n",
    "except ValueError as val_ex: \n",
    "    print(val_ex)\n",
    "    print(\"please enter a valid number\")\n",
    "except ZeroDivisionError as zero_ex: \n",
    "    print(zero_ex)\n",
    "    print(\"please enter the denominator > 0\")\n",
    "except Exception as ex: \n",
    "    print(ex)\n",
    "else: \n",
    "    print(f\"Result : {result}\")"
   ]
  },
  {
   "cell_type": "code",
   "execution_count": 13,
   "metadata": {},
   "outputs": [
    {
     "name": "stdout",
     "output_type": "stream",
     "text": [
      "Result : 0.05\n",
      "Execution Completed\n"
     ]
    }
   ],
   "source": [
    "# Try, Except else and finally\n",
    "try:\n",
    "    num = int(input(\"Enter Number\"))\n",
    "    result = 1/num\n",
    "    # print(result)\n",
    "except ValueError as val_ex: \n",
    "    print(val_ex)\n",
    "    print(\"please enter a valid number\")\n",
    "except ZeroDivisionError as zero_ex: \n",
    "    print(zero_ex)\n",
    "    print(\"please enter the denominator > 0\")\n",
    "except Exception as ex: \n",
    "    print(ex)\n",
    "else: \n",
    "    print(f\"Result : {result}\")\n",
    "finally: \n",
    "    print(\"Execution Completed\")"
   ]
  }
 ],
 "metadata": {
  "kernelspec": {
   "display_name": "venv",
   "language": "python",
   "name": "python3"
  },
  "language_info": {
   "codemirror_mode": {
    "name": "ipython",
    "version": 3
   },
   "file_extension": ".py",
   "mimetype": "text/x-python",
   "name": "python",
   "nbconvert_exporter": "python",
   "pygments_lexer": "ipython3",
   "version": "3.11.5"
  }
 },
 "nbformat": 4,
 "nbformat_minor": 2
}
