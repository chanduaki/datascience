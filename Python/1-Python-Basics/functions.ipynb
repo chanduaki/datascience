{
 "cells": [
  {
   "cell_type": "markdown",
   "metadata": {},
   "source": [
    "# FUnctions"
   ]
  },
  {
   "cell_type": "markdown",
   "metadata": {},
   "source": [
    "WHy Functions?\n",
    " - resuability"
   ]
  },
  {
   "cell_type": "code",
   "execution_count": 26,
   "metadata": {},
   "outputs": [
    {
     "data": {
      "text/plain": [
       "'even'"
      ]
     },
     "execution_count": 26,
     "metadata": {},
     "output_type": "execute_result"
    }
   ],
   "source": [
    "def even_or_odd(num):\n",
    "    if num%2 == 0:\n",
    "        return \"even\"\n",
    "    else: \n",
    "        return \"odd\"\n",
    "    \n",
    "even_or_odd(20)"
   ]
  },
  {
   "cell_type": "code",
   "execution_count": 27,
   "metadata": {},
   "outputs": [
    {
     "name": "stdout",
     "output_type": "stream",
     "text": [
      "num0, even\n",
      "num1, odd\n",
      "num2, even\n",
      "num3, odd\n",
      "num4, even\n",
      "num5, odd\n",
      "num6, even\n",
      "num7, odd\n",
      "num8, even\n",
      "num9, odd\n"
     ]
    }
   ],
   "source": [
    "for i in range(10):\n",
    "    \"\"\"Doc String\"\"\"\n",
    "    status = even_or_odd(i)\n",
    "    print(f'num{i}, {status}')"
   ]
  },
  {
   "cell_type": "code",
   "execution_count": 28,
   "metadata": {},
   "outputs": [
    {
     "name": "stdout",
     "output_type": "stream",
     "text": [
      "6\n"
     ]
    }
   ],
   "source": [
    "### Multiple Paramaters \n",
    "def add(a,b):\n",
    "    return a+b\n",
    "result = add(2,4)\n",
    "print(result)"
   ]
  },
  {
   "cell_type": "code",
   "execution_count": 29,
   "metadata": {},
   "outputs": [
    {
     "name": "stdout",
     "output_type": "stream",
     "text": [
      "Hello Guest! Welcome to paradise\n",
      "Hello chandu! Welcome to paradise\n"
     ]
    }
   ],
   "source": [
    "## Default Parameters\n",
    "def greet(name=\"Guest\"):\n",
    "    print(f\"Hello {name}! Welcome to paradise\")\n",
    "\n",
    "greet()\n",
    "greet(name=\"chandu\")"
   ]
  },
  {
   "cell_type": "code",
   "execution_count": 30,
   "metadata": {},
   "outputs": [
    {
     "name": "stdout",
     "output_type": "stream",
     "text": [
      "Positional arguments\n",
      "1\n",
      "2\n",
      "3\n",
      "4\n",
      "5\n",
      "6\n",
      "6\n",
      "7\n",
      "7\n",
      "8\n",
      "9\n",
      "\n",
      "Keyword arguments\n",
      "name chandu\n",
      "studying 10th\n"
     ]
    }
   ],
   "source": [
    "### Variable Length Arguments \n",
    "## Positional and Keyword Arguments\n",
    "\n",
    "# Positional Arguments\n",
    "def print_numbers(*args):\n",
    "    for number in args: \n",
    "        print(number)\n",
    "print(\"Positional arguments\")\n",
    "print_numbers(1,2,3,4,5,6,6,7,7,8,9)\n",
    "\n",
    "# Keyword Arguments\n",
    "def print_details(**kwargs):\n",
    "    for key,value in kwargs.items():\n",
    "        print(key,value)\n",
    "print(\"\\nKeyword arguments\")\n",
    "print_details(name=\"chandu\", studying=\"10th\")"
   ]
  },
  {
   "cell_type": "code",
   "execution_count": 32,
   "metadata": {},
   "outputs": [
    {
     "data": {
      "text/plain": [
       "(5, 6, 0.6666666666666666)"
      ]
     },
     "execution_count": 32,
     "metadata": {},
     "output_type": "execute_result"
    }
   ],
   "source": [
    "## Return values \n",
    "def test(a,b):\n",
    "    return a+b, a*b, a/b\n",
    "\n",
    "test(2,3)"
   ]
  },
  {
   "cell_type": "markdown",
   "metadata": {},
   "source": [
    "# examples"
   ]
  },
  {
   "cell_type": "code",
   "execution_count": 4,
   "metadata": {},
   "outputs": [
    {
     "data": {
      "text/plain": [
       "77.0"
      ]
     },
     "execution_count": 4,
     "metadata": {},
     "output_type": "execute_result"
    }
   ],
   "source": [
    "# Temparture Conversion\n",
    "def convert_temperature(temp, unit):\n",
    "    if unit =='C':\n",
    "        return temp * 9/5 + 32 \n",
    "    elif unit == 'F':\n",
    "        return (temp - 32)*5/9\n",
    "    else: \n",
    "        return None\n",
    "    \n",
    "convert_temperature(25,'C')"
   ]
  },
  {
   "cell_type": "code",
   "execution_count": 8,
   "metadata": {},
   "outputs": [
    {
     "name": "stdout",
     "output_type": "stream",
     "text": [
      "False\n",
      "True\n"
     ]
    }
   ],
   "source": [
    "# Password Strength Checker\n",
    "def is_strong_password(password):\n",
    "    if len(password)<8: \n",
    "        return False\n",
    "    if not any(char.isdigit() for char in password):\n",
    "        return False\n",
    "    if not any(char.islower() for char in password):\n",
    "        return False \n",
    "    if not any(char.isupper() for char in password):\n",
    "        return False \n",
    "    if not any(char in '!@#$%^&*()_+)' for char in password):\n",
    "        return False \n",
    "    return True\n",
    "\n",
    "print(is_strong_password(\"weaKPass\"))\n",
    "print(is_strong_password(\"Str0nGp@ss\"))\n",
    "\n"
   ]
  },
  {
   "cell_type": "code",
   "execution_count": 9,
   "metadata": {},
   "outputs": [
    {
     "data": {
      "text/plain": [
       "True"
      ]
     },
     "execution_count": 9,
     "metadata": {},
     "output_type": "execute_result"
    }
   ],
   "source": [
    "# Palindrome or not \n",
    "\n",
    "def is_palindrome(s):\n",
    "    _s = s.lower().replace(\" \",\"\")\n",
    "    return _s == _s[::-1]\n",
    "\n",
    "is_palindrome(\"A man a plan a canal panama\")"
   ]
  },
  {
   "cell_type": "code",
   "execution_count": 10,
   "metadata": {},
   "outputs": [
    {
     "data": {
      "text/plain": [
       "24"
      ]
     },
     "execution_count": 10,
     "metadata": {},
     "output_type": "execute_result"
    }
   ],
   "source": [
    "# Factorial \n",
    "\n",
    "def cal_fact(n):\n",
    "    if n == 0 : \n",
    "        return 1 \n",
    "    else: \n",
    "        return n* cal_fact(n-1)\n",
    "\n",
    "cal_fact(4)"
   ]
  },
  {
   "cell_type": "code",
   "execution_count": 15,
   "metadata": {},
   "outputs": [
    {
     "data": {
      "text/plain": [
       "{'ml': 4,\n",
       " 'stands': 1,\n",
       " 'for': 1,\n",
       " 'machine': 1,\n",
       " 'learning': 1,\n",
       " 'is': 1,\n",
       " 'a': 1,\n",
       " 'subfield': 1,\n",
       " 'of': 2,\n",
       " 'artificial': 1,\n",
       " 'intelligence': 1,\n",
       " 'that': 1,\n",
       " 'focuses': 1,\n",
       " 'on': 1,\n",
       " 'enabling': 1,\n",
       " 'computers': 1,\n",
       " 'to': 3,\n",
       " 'learn': 1,\n",
       " 'from': 1,\n",
       " 'data': 1,\n",
       " 'improve': 1,\n",
       " 'their': 1,\n",
       " 'performance': 1,\n",
       " 'over': 1,\n",
       " 'time': 1,\n",
       " 'and': 4,\n",
       " 'make': 2,\n",
       " 'accurate': 1,\n",
       " 'predictions': 1,\n",
       " 'or': 1,\n",
       " 'decisions': 2,\n",
       " 'without': 1,\n",
       " 'being': 1,\n",
       " 'explicitly': 1,\n",
       " 'programmed': 1,\n",
       " 'algorithms': 1,\n",
       " 'analyze': 1,\n",
       " 'large': 1,\n",
       " 'datasets': 1,\n",
       " 'recognize': 1,\n",
       " 'patterns': 1,\n",
       " 'adapt': 1,\n",
       " 'new': 1,\n",
       " 'information': 1,\n",
       " 'informed': 1,\n",
       " 'applications': 1,\n",
       " 'include': 1,\n",
       " 'image': 1,\n",
       " 'speech': 1,\n",
       " 'recognition': 1,\n",
       " 'natural': 1,\n",
       " 'language': 1,\n",
       " 'processing': 1,\n",
       " 'recommender': 1,\n",
       " 'systems': 1,\n",
       " 'personalized': 1,\n",
       " 'advertising': 1}"
      ]
     },
     "execution_count": 15,
     "metadata": {},
     "output_type": "execute_result"
    }
   ],
   "source": [
    "# Function to read file and count frequency of each word\n",
    "def count_words(file_path):\n",
    "    words_count = {}\n",
    "    with open(file_path, 'r')as file:\n",
    "        for line in file: \n",
    "            words = line.split()\n",
    "            for word in words: \n",
    "                word = word.lower().strip('.!,?:;\"\\'\\'')\n",
    "                words_count[word] = words_count.get(word,0)+1\n",
    "    return words_count\n",
    "                                        \n",
    "filepath = \"sample.txt\"\n",
    "count_words(filepath)"
   ]
  },
  {
   "cell_type": "markdown",
   "metadata": {},
   "source": [
    "# Lambda Function"
   ]
  },
  {
   "cell_type": "code",
   "execution_count": null,
   "metadata": {},
   "outputs": [],
   "source": [
    "# Syntax \n",
    "lambda arguments:expression"
   ]
  },
  {
   "cell_type": "code",
   "execution_count": 16,
   "metadata": {},
   "outputs": [
    {
     "data": {
      "text/plain": [
       "5"
      ]
     },
     "execution_count": 16,
     "metadata": {},
     "output_type": "execute_result"
    }
   ],
   "source": [
    "def add(a,b):\n",
    "    return a+b\n",
    "\n",
    "add(2,3)"
   ]
  },
  {
   "cell_type": "code",
   "execution_count": 17,
   "metadata": {},
   "outputs": [
    {
     "data": {
      "text/plain": [
       "function"
      ]
     },
     "execution_count": 17,
     "metadata": {},
     "output_type": "execute_result"
    }
   ],
   "source": [
    "addition = lambda a,b: a+b\n",
    "type(addition)"
   ]
  },
  {
   "cell_type": "code",
   "execution_count": 18,
   "metadata": {},
   "outputs": [
    {
     "name": "stdout",
     "output_type": "stream",
     "text": [
      "5\n"
     ]
    }
   ],
   "source": [
    "print(addition(2,3))"
   ]
  },
  {
   "cell_type": "code",
   "execution_count": null,
   "metadata": {},
   "outputs": [],
   "source": []
  },
  {
   "cell_type": "code",
   "execution_count": 19,
   "metadata": {},
   "outputs": [
    {
     "name": "stdout",
     "output_type": "stream",
     "text": [
      "True\n"
     ]
    }
   ],
   "source": [
    "even = lambda num: num%2==0\n",
    "print(even(24))"
   ]
  },
  {
   "cell_type": "code",
   "execution_count": null,
   "metadata": {},
   "outputs": [],
   "source": []
  },
  {
   "cell_type": "markdown",
   "metadata": {},
   "source": [
    "# Map Function"
   ]
  },
  {
   "cell_type": "code",
   "execution_count": 33,
   "metadata": {},
   "outputs": [
    {
     "name": "stdout",
     "output_type": "stream",
     "text": [
      "[0, 1, 2, 3, 4, 5, 6, 7, 8, 9]\n"
     ]
    },
    {
     "data": {
      "text/plain": [
       "[0, 1, 4, 9, 16, 25, 36, 49, 64, 81]"
      ]
     },
     "execution_count": 33,
     "metadata": {},
     "output_type": "execute_result"
    }
   ],
   "source": [
    "# Map - applies a function to all items in list \n",
    "\n",
    "numbers = [ i for i in range(10)]\n",
    "print(numbers)\n",
    "\n",
    "# Square of numbers\n",
    "list(map(lambda x: x**2, numbers))"
   ]
  },
  {
   "cell_type": "code",
   "execution_count": 35,
   "metadata": {},
   "outputs": [
    {
     "name": "stdout",
     "output_type": "stream",
     "text": [
      "[5, 7, 9]\n"
     ]
    }
   ],
   "source": [
    "# Map - Multiple Iterables \n",
    "numbers1=[1,2,3]\n",
    "numbers2=[4,5,6]\n",
    "\n",
    "add_numbers = list(map(lambda x,y: x+y, numbers1, numbers2))\n",
    "print(add_numbers)"
   ]
  },
  {
   "cell_type": "code",
   "execution_count": null,
   "metadata": {},
   "outputs": [],
   "source": []
  },
  {
   "cell_type": "markdown",
   "metadata": {},
   "source": [
    "# Filter Function"
   ]
  },
  {
   "cell_type": "code",
   "execution_count": 36,
   "metadata": {},
   "outputs": [
    {
     "name": "stdout",
     "output_type": "stream",
     "text": [
      "[0, 1, 2, 3, 4, 5, 6, 7, 8, 9]\n"
     ]
    }
   ],
   "source": [
    "numbers = [ i for i in range(10)]\n",
    "print(numbers)"
   ]
  },
  {
   "cell_type": "code",
   "execution_count": 37,
   "metadata": {},
   "outputs": [
    {
     "data": {
      "text/plain": [
       "[0, 2, 4, 6, 8]"
      ]
     },
     "execution_count": 37,
     "metadata": {},
     "output_type": "execute_result"
    }
   ],
   "source": [
    "list(filter(even, numbers))"
   ]
  }
 ],
 "metadata": {
  "kernelspec": {
   "display_name": "venv",
   "language": "python",
   "name": "python3"
  },
  "language_info": {
   "codemirror_mode": {
    "name": "ipython",
    "version": 3
   },
   "file_extension": ".py",
   "mimetype": "text/x-python",
   "name": "python",
   "nbconvert_exporter": "python",
   "pygments_lexer": "ipython3",
   "version": "3.11.5"
  }
 },
 "nbformat": 4,
 "nbformat_minor": 2
}
