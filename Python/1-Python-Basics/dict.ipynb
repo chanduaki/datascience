{
 "cells": [
  {
   "cell_type": "code",
   "execution_count": 1,
   "metadata": {},
   "outputs": [],
   "source": [
    "student = {\"name\": \"chandu\", \"gender\":\"male\", \"class\":\"10th\"}"
   ]
  },
  {
   "cell_type": "code",
   "execution_count": 3,
   "metadata": {},
   "outputs": [
    {
     "data": {
      "text/plain": [
       "dict"
      ]
     },
     "execution_count": 3,
     "metadata": {},
     "output_type": "execute_result"
    }
   ],
   "source": [
    "type(student)"
   ]
  },
  {
   "cell_type": "code",
   "execution_count": 4,
   "metadata": {},
   "outputs": [
    {
     "data": {
      "text/plain": [
       "'chandu'"
      ]
     },
     "execution_count": 4,
     "metadata": {},
     "output_type": "execute_result"
    }
   ],
   "source": [
    "student['name']"
   ]
  },
  {
   "cell_type": "code",
   "execution_count": 5,
   "metadata": {},
   "outputs": [
    {
     "data": {
      "text/plain": [
       "'chandu'"
      ]
     },
     "execution_count": 5,
     "metadata": {},
     "output_type": "execute_result"
    }
   ],
   "source": [
    "student.get('name')"
   ]
  },
  {
   "cell_type": "code",
   "execution_count": 6,
   "metadata": {},
   "outputs": [],
   "source": [
    "student.get('last_name')"
   ]
  },
  {
   "cell_type": "code",
   "execution_count": 7,
   "metadata": {},
   "outputs": [
    {
     "data": {
      "text/plain": [
       "'not_avialable'"
      ]
     },
     "execution_count": 7,
     "metadata": {},
     "output_type": "execute_result"
    }
   ],
   "source": [
    "# show default value if it is not present\n",
    "student.get('last_name',\"not_avialable\")"
   ]
  },
  {
   "cell_type": "code",
   "execution_count": 8,
   "metadata": {},
   "outputs": [
    {
     "name": "stdout",
     "output_type": "stream",
     "text": [
      "{'name': 'chandu', 'gender': 'male', 'class': '10th'}\n",
      "{'name': 'chandu', 'gender': 'male', 'class': '11th'}\n",
      "{'name': 'chandu', 'gender': 'male', 'class': '11th', 'first_name': 'A'}\n",
      "{'name': 'chandu', 'class': '11th', 'first_name': 'A'}\n"
     ]
    }
   ],
   "source": [
    "print(student)\n",
    "student[\"class\"] = \"11th\"\n",
    "print(student)\n",
    "student[\"first_name\"] = \"A\"\n",
    "print(student)\n",
    "del student[\"gender\"]\n",
    "print(student)"
   ]
  },
  {
   "cell_type": "code",
   "execution_count": 9,
   "metadata": {},
   "outputs": [
    {
     "name": "stdout",
     "output_type": "stream",
     "text": [
      "dict_keys(['name', 'class', 'first_name'])\n",
      "dict_values(['chandu', '11th', 'A'])\n"
     ]
    }
   ],
   "source": [
    "# Dictionary Methods\n",
    "keys = student.keys()\n",
    "values = student.values()\n",
    "\n",
    "print(keys)\n",
    "print(values)"
   ]
  },
  {
   "cell_type": "code",
   "execution_count": 10,
   "metadata": {},
   "outputs": [
    {
     "name": "stdout",
     "output_type": "stream",
     "text": [
      "dict_items([('name', 'chandu'), ('class', '11th'), ('first_name', 'A')])\n"
     ]
    }
   ],
   "source": [
    "items = student.items()\n",
    "print(items)"
   ]
  },
  {
   "cell_type": "code",
   "execution_count": 11,
   "metadata": {},
   "outputs": [
    {
     "name": "stdout",
     "output_type": "stream",
     "text": [
      "{'name': 'chandu', 'class': '11th', 'first_name': 'A'}\n",
      "{'name': 'chandu', 'class': '11th', 'first_name': 'A'}\n",
      "{'name': 'chandu', 'class': '11th', 'first_name': 'A'}\n",
      "{'name': 'chandu', 'class': '11th', 'first_name': 'A'}\n"
     ]
    }
   ],
   "source": [
    "# Shallow Copy\n",
    "student_copy = student\n",
    "print(student)\n",
    "print(student_copy)\n",
    "\n",
    "student['name']='chandu2'\n",
    "print(student)\n",
    "print(student_copy)"
   ]
  },
  {
   "cell_type": "markdown",
   "metadata": {},
   "source": [
    "This is the issue with copy when assign it to direct value , instead use shallow copy ie.,"
   ]
  },
  {
   "cell_type": "code",
   "execution_count": 12,
   "metadata": {},
   "outputs": [
    {
     "name": "stdout",
     "output_type": "stream",
     "text": [
      "{'name': 'chandu', 'class': '11th', 'first_name': 'A'}\n",
      "{'name': 'chandu', 'class': '11th', 'first_name': 'A'}\n",
      "{'name': 'chandu3', 'class': '11th', 'first_name': 'A'}\n",
      "{'name': 'chandu', 'class': '11th', 'first_name': 'A'}\n"
     ]
    }
   ],
   "source": [
    "student_copy = student.copy()\n",
    "print(student)\n",
    "print(student_copy)\n",
    "\n",
    "student['name']='chandu3'\n",
    "print(student)\n",
    "print(student_copy)"
   ]
  },
  {
   "cell_type": "code",
   "execution_count": 14,
   "metadata": {},
   "outputs": [
    {
     "name": "stdout",
     "output_type": "stream",
     "text": [
      "name chandu3\n",
      "class 11th\n",
      "first_name A\n"
     ]
    }
   ],
   "source": [
    "# iteration \n",
    "for key, value in student.items():\n",
    "    print(key,value)"
   ]
  },
  {
   "cell_type": "code",
   "execution_count": 16,
   "metadata": {},
   "outputs": [
    {
     "data": {
      "text/plain": [
       "{0: 0, 1: 1, 2: 4, 3: 9, 4: 16, 5: 25, 6: 36, 7: 49, 8: 64, 9: 81}"
      ]
     },
     "execution_count": 16,
     "metadata": {},
     "output_type": "execute_result"
    }
   ],
   "source": [
    "squares = {x:x**2 for x in range(10)}\n",
    "squares"
   ]
  },
  {
   "cell_type": "code",
   "execution_count": null,
   "metadata": {},
   "outputs": [],
   "source": []
  }
 ],
 "metadata": {
  "kernelspec": {
   "display_name": "venv",
   "language": "python",
   "name": "python3"
  },
  "language_info": {
   "codemirror_mode": {
    "name": "ipython",
    "version": 3
   },
   "file_extension": ".py",
   "mimetype": "text/x-python",
   "name": "python",
   "nbconvert_exporter": "python",
   "pygments_lexer": "ipython3",
   "version": "3.11.5"
  }
 },
 "nbformat": 4,
 "nbformat_minor": 2
}
