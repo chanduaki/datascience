{
 "cells": [
  {
   "cell_type": "code",
   "execution_count": 1,
   "metadata": {},
   "outputs": [],
   "source": [
    "## Single Line Comments"
   ]
  },
  {
   "cell_type": "code",
   "execution_count": 11,
   "metadata": {},
   "outputs": [
    {
     "name": "stdout",
     "output_type": "stream",
     "text": [
      "name: Chandu ==> Memory Allocation: 4344634224\n",
      "Name: Aki ==> Memory Allocation: 4344656944\n"
     ]
    }
   ],
   "source": [
    "# Python is Case Sensitive \n",
    "name = \"Chandu\"\n",
    "Name = \"Aki\"\n",
    "\n",
    "print(f\"name: {name}\", \"==>\", f\"Memory Allocation: {id(name)}\" )\n",
    "print(f\"Name: {Name}\", \"==>\", f\"Memory Allocation: {id(Name)}\" )\n"
   ]
  },
  {
   "cell_type": "code",
   "execution_count": 13,
   "metadata": {},
   "outputs": [
    {
     "name": "stdout",
     "output_type": "stream",
     "text": [
      "name: Aki ==> Memory Allocation: 4344656944\n",
      "Name: Aki ==> Memory Allocation: 4344656944\n"
     ]
    }
   ],
   "source": [
    "name = \"Chandu\"\n",
    "name = \"Aki\"\n",
    "\n",
    "\n",
    "print(f\"name: {name}\", \"==>\", f\"Memory Allocation: {id(name)}\" )\n",
    "print(f\"Name: {Name}\", \"==>\", f\"Memory Allocation: {id(Name)}\" )"
   ]
  },
  {
   "cell_type": "code",
   "execution_count": 17,
   "metadata": {},
   "outputs": [
    {
     "ename": "SyntaxError",
     "evalue": "invalid syntax (3506466953.py, line 6)",
     "output_type": "error",
     "traceback": [
      "\u001b[0;36m  Cell \u001b[0;32mIn[17], line 6\u001b[0;36m\u001b[0m\n\u001b[0;31m    else :  print(\"lesser\")\u001b[0m\n\u001b[0m    ^\u001b[0m\n\u001b[0;31mSyntaxError\u001b[0m\u001b[0;31m:\u001b[0m invalid syntax\n"
     ]
    }
   ],
   "source": [
    "# Indendation is must an should \n",
    "# Incorrect\n",
    "age = 32\n",
    "if age > 30 : \n",
    "    print(age)\n",
    "    else :  print(\"lesser\")\n"
   ]
  },
  {
   "cell_type": "code",
   "execution_count": 18,
   "metadata": {},
   "outputs": [
    {
     "name": "stdout",
     "output_type": "stream",
     "text": [
      "32\n"
     ]
    }
   ],
   "source": [
    "# Correct\n",
    "age = 32\n",
    "if age > 30 : \n",
    "    print(age)\n",
    "else:\n",
    "    print(\"lesser\")"
   ]
  }
 ],
 "metadata": {
  "kernelspec": {
   "display_name": ".venv",
   "language": "python",
   "name": "python3"
  },
  "language_info": {
   "codemirror_mode": {
    "name": "ipython",
    "version": 3
   },
   "file_extension": ".py",
   "mimetype": "text/x-python",
   "name": "python",
   "nbconvert_exporter": "python",
   "pygments_lexer": "ipython3",
   "version": "3.9.6"
  }
 },
 "nbformat": 4,
 "nbformat_minor": 2
}
